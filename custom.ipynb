{
 "cells": [
  {
   "cell_type": "code",
   "execution_count": 1,
   "metadata": {},
   "outputs": [],
   "source": [
    "import spacy\n",
    "from spacy.matcher import Matcher\n",
    "import re "
   ]
  },
  {
   "cell_type": "code",
   "execution_count": 2,
   "metadata": {},
   "outputs": [],
   "source": [
    "text = ''\n",
    "f = open(\"./extracted_texts/a2353f5b-13bf-47a0-8994-5a025fb1b6dc.txt\",\n",
    "         'r')\n",
    "\n",
    "for x in f:\n",
    "    text+=x"
   ]
  },
  {
   "cell_type": "code",
   "execution_count": 4,
   "metadata": {},
   "outputs": [],
   "source": [
    "# defining spacy language model\n",
    "nlp = spacy.load(\"en_core_web_lg\")\n",
    "doc = nlp(text)"
   ]
  },
  {
   "cell_type": "code",
   "execution_count": 7,
   "metadata": {},
   "outputs": [],
   "source": [
    "# creating our own tokenizer"
   ]
  },
  {
   "cell_type": "code",
   "execution_count": 8,
   "metadata": {},
   "outputs": [],
   "source": [
    "from spacy.tokenizer import Tokenizer\n",
    "from spacy.lang.en import English\n",
    "nlp = English()"
   ]
  },
  {
   "cell_type": "code",
   "execution_count": 9,
   "metadata": {},
   "outputs": [
    {
     "name": "stdout",
     "output_type": "stream",
     "text": [
      "Blank tokenizer : "
     ]
    }
   ],
   "source": [
    "# creating a blank tokenizer\n",
    "tokenizer = Tokenizer(nlp.vocab)\n",
    "tokens = tokenizer(text)\n",
    "print(\"Blank tokenizer\",end=\" : \")"
   ]
  },
  {
   "cell_type": "code",
   "execution_count": 11,
   "metadata": {},
   "outputs": [
    {
     "name": "stdout",
     "output_type": "stream",
     "text": [
      "+8801755304840:\n",
      ":Uttara,:Dhaka.:\n",
      ":aism6486@gmail.com:\n",
      ":f:\n",
      ":in:\n",
      ":B:\n",
      ":A:\n",
      ":Aminul:Islam:\n",
      ":UI/UI:Designer:\n",
      ":I'm:a:UX:Research,:design:thinker,:User:Interface:designer,:experience:strategist:&:human-loving:\n",
      ":introvert.:Over:the:last:four:years,:I've:collaborated:with:a:diverse:group:of:Creative:teams:to:create:\n",
      ":digital:products.:|:approach:design:and:focus:on:people,:establishing:empathy:for:both:the:people:\n",
      ":who:make:and:the:people:who:use:the:products:|:help:bring:to:life.:\n",
      ":Work:History:\n",
      ":Notable:Skills:\n",
      ":UX/UI:Engineer:\n",
      ":User:Experience:(UX):\n",
      ":Debuggers:Studio:Full-time:\n",
      ":dstudio:\n",
      ":Design:Principles:\n",
      ":Apr:2021:-:Present:1:yer:6:mos:\n",
      ":UX:Research:\n",
      ":I'm:a:UX:Research:design:thinker,:User:Interface:designer.:\n",
      ":User:Flow,:Site:Map:\n",
      ":UX/UI:Designer:\n",
      ":Wireframe:\n",
      ":Expandtheme:Full-time:\n",
      ":Prototype:\n",
      ":Jun:2020:May:2021,:1:yer:\n",
      ":User:Experience:Design:(UXD):\n",
      ":I'm:a:UX:Research:design:thinker,:User:Interface:designer:\n",
      ":Visual:Design:\n",
      ":Graphic:Designer:\n",
      ":Web:Design:\n",
      ":HMBR:\n",
      ":HMBE:Group:Full-time:\n",
      ":Mobile:App:Design:\n",
      ":Apr:2018:May:2020:2:yrs:2:mos:\n",
      ":Usability:Testing:\n",
      ":I'm:a:UX:Research,:design:thinker,:User:Interface:designer.:\n",
      ":Mockup:\n",
      ":Trainee:Graphic:Designer:\n",
      ":ABI:\n",
      ":Amar:Bazar:Ltd.:Full-time:\n",
      ":Education:History:\n",
      ":Jan:2018:Apr:201:3:mos:\n",
      ":Northern:University,:Bangladesh:\n",
      ":Bachelor's:degree:\n",
      ":Notable:Projects:\n",
      ":NORTHERN:UNIVERSITY:\n",
      ":2018:-:2021:\n",
      ":LearningTiger:-:kides:E-learning:Platform:UI/UX:design:\n",
      ":debuggersstudio:website:UI/UX:design:\n",
      ":Shyamoli:Ideal:Polytechnic:In.:\n",
      ":Hallwn:-:Impressive:Personal:Blog:XD:Template:for:Themeforest:\n",
      ":Diploma:of:Engineering:\n",
      ":2013:-:2017:\n",
      ":Fitmey:-:Minimal:Gym:Fitness:UI:Figma:Template:\n",
      ":Rockstone:-:Redesign:Website:\n",
      ":Gazipur:High:School:\n",
      ":Virginia-Prep-Sports-Academy:-:Redesign:Website:\n",
      ":SSC:\n",
      ":RunFirst:Marathon:Template:Kit:-:UI/UX:design:\n",
      ":2008:2013:\n",
      ":SLEEC-:Mobile:app:&:Web:site:UI/UX:design:\n",
      ":Coach:Shaquan:Speaks:Portfolio:UI:design:\n",
      ":Hobies:\n",
      ":E-commerce:website:UI/UX:design:\n",
      ":Certifications:\n",
      ":Complete:UI/UX:Design:Course:and:certified:from:Creative:IT:Institute.:\n",
      ":Complete:Advance:Graphic:Design:Course:and:certified:from:Creative:IT:Institute.:\n",
      ":Fundamentals:of:user:experience:(UX):design:certified:from:Google.:\n",
      ":Employee:In:the:Quater:certified:from:debuggersstudio:\n",
      ":Best:Employee:in:the:Month:certified:from:debuggersstudio:\n",
      ":Work:with:\n",
      ":Engineered:Healthcare:\n",
      ":hospi:CARE+:\n",
      ":fixit.com.bd:\n",
      ":fiver:R:\n",
      ":freelancer:\n",
      ":EXPAND:THEME:\n",
      ":ZEPTO:\n",
      ":Perfection:\n",
      ":Racing:\n",
      ":EVERYTHING:CLEAN:\n",
      ":Best:Regards:-:Aminul:Islam:"
     ]
    }
   ],
   "source": [
    "for token in tokens:\n",
    "    print(token,end=':')"
   ]
  },
  {
   "cell_type": "code",
   "execution_count": null,
   "metadata": {},
   "outputs": [],
   "source": []
  }
 ],
 "metadata": {
  "kernelspec": {
   "display_name": "ocr",
   "language": "python",
   "name": "python3"
  },
  "language_info": {
   "codemirror_mode": {
    "name": "ipython",
    "version": 3
   },
   "file_extension": ".py",
   "mimetype": "text/x-python",
   "name": "python",
   "nbconvert_exporter": "python",
   "pygments_lexer": "ipython3",
   "version": "3.10.8"
  },
  "orig_nbformat": 4,
  "vscode": {
   "interpreter": {
    "hash": "9df43e8394a06c2bd225e8c3cc0348707dbec1aac68919c3eb2d8230de0dd306"
   }
  }
 },
 "nbformat": 4,
 "nbformat_minor": 2
}
