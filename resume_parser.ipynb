{
 "cells": [
  {
   "cell_type": "code",
   "execution_count": 118,
   "metadata": {},
   "outputs": [],
   "source": [
    "import spacy\n",
    "from spacy.matcher import Matcher"
   ]
  },
  {
   "cell_type": "code",
   "execution_count": 119,
   "metadata": {},
   "outputs": [],
   "source": [
    "text = ''\n",
    "f = open(\"./extracted_texts/a2353f5b-13bf-47a0-8994-5a025fb1b6dc.txt\",\n",
    "         'r')\n",
    "\n",
    "for x in f:\n",
    "    text+=x"
   ]
  },
  {
   "cell_type": "code",
   "execution_count": 120,
   "metadata": {},
   "outputs": [],
   "source": [
    "# defining spacy language model\n",
    "nlp = spacy.load(\"en_core_web_lg\")\n",
    "doc = nlp(text)"
   ]
  },
  {
   "cell_type": "code",
   "execution_count": 121,
   "metadata": {},
   "outputs": [
    {
     "name": "stdout",
     "output_type": "stream",
     "text": [
      "+8801755304840|\n",
      "|Uttara|,|Dhaka|.|\n",
      "|aism6486@gmail.com|\n",
      "|f|\n",
      "|in|\n",
      "|B|\n",
      "|A|\n",
      "|Aminul|Islam|\n",
      "|UI|/|UI|Designer|\n",
      "|I|'m|a|UX|Research|,|design|thinker|,|User|Interface|designer|,|experience|strategist|&|human|-|loving|\n",
      "|introvert|.|Over|the|last|four|years|,|I|'ve|collaborated|with|a|diverse|group|of|Creative|teams|to|create|\n",
      "|digital|products|.|||approach|design|and|focus|on|people|,|establishing|empathy|for|both|the|people|\n",
      "|who|make|and|the|people|who|use|the|products|||help|bring|to|life|.|\n",
      "|Work|History|\n",
      "|Notable|Skills|\n",
      "|UX|/|UI|Engineer|\n",
      "|User|Experience|(|UX|)|\n",
      "|Debuggers|Studio|Full|-|time|\n",
      "|dstudio|\n",
      "|Design|Principles|\n",
      "|Apr|2021|-|Present|1|yer|6|mos|\n",
      "|UX|Research|\n",
      "|I|'m|a|UX|Research|design|thinker|,|User|Interface|designer|.|\n",
      "|User|Flow|,|Site|Map|\n",
      "|UX|/|UI|Designer|\n",
      "|Wireframe|\n",
      "|Expandtheme|Full|-|time|\n",
      "|Prototype|\n",
      "|Jun|2020|May|2021|,|1|yer|\n",
      "|User|Experience|Design|(|UXD|)|\n",
      "|I|'m|a|UX|Research|design|thinker|,|User|Interface|designer|\n",
      "|Visual|Design|\n",
      "|Graphic|Designer|\n",
      "|Web|Design|\n",
      "|HMBR|\n",
      "|HMBE|Group|Full|-|time|\n",
      "|Mobile|App|Design|\n",
      "|Apr|2018|May|2020|2|yrs|2|mos|\n",
      "|Usability|Testing|\n",
      "|I|'m|a|UX|Research|,|design|thinker|,|User|Interface|designer|.|\n",
      "|Mockup|\n",
      "|Trainee|Graphic|Designer|\n",
      "|ABI|\n",
      "|Amar|Bazar|Ltd.|Full|-|time|\n",
      "|Education|History|\n",
      "|Jan|2018|Apr|201|3|mos|\n",
      "|Northern|University|,|Bangladesh|\n",
      "|Bachelor|'s|degree|\n",
      "|Notable|Projects|\n",
      "|NORTHERN|UNIVERSITY|\n",
      "|2018|-|2021|\n",
      "|LearningTiger|-|kides|E|-|learning|Platform|UI|/|UX|design|\n",
      "|debuggersstudio|website|UI|/|UX|design|\n",
      "|Shyamoli|Ideal|Polytechnic|In|.|\n",
      "|Hallwn|-|Impressive|Personal|Blog|XD|Template|for|Themeforest|\n",
      "|Diploma|of|Engineering|\n",
      "|2013|-|2017|\n",
      "|Fitmey|-|Minimal|Gym|Fitness|UI|Figma|Template|\n",
      "|Rockstone|-|Redesign|Website|\n",
      "|Gazipur|High|School|\n",
      "|Virginia|-|Prep|-|Sports|-|Academy|-|Redesign|Website|\n",
      "|SSC|\n",
      "|RunFirst|Marathon|Template|Kit|-|UI|/|UX|design|\n",
      "|2008|2013|\n",
      "|SLEEC-|Mobile|app|&|Web|site|UI|/|UX|design|\n",
      "|Coach|Shaquan|Speaks|Portfolio|UI|design|\n",
      "|Hobies|\n",
      "|E|-|commerce|website|UI|/|UX|design|\n",
      "|Certifications|\n",
      "|Complete|UI|/|UX|Design|Course|and|certified|from|Creative|IT|Institute|.|\n",
      "|Complete|Advance|Graphic|Design|Course|and|certified|from|Creative|IT|Institute|.|\n",
      "|Fundamentals|of|user|experience|(|UX|)|design|certified|from|Google|.|\n",
      "|Employee|In|the|Quater|certified|from|debuggersstudio|\n",
      "|Best|Employee|in|the|Month|certified|from|debuggersstudio|\n",
      "|Work|with|\n",
      "|Engineered|Healthcare|\n",
      "|hospi|CARE+|\n",
      "|fixit.com.bd|\n",
      "|fiver|R|\n",
      "|freelancer|\n",
      "|EXPAND|THEME|\n",
      "|ZEPTO|\n",
      "|Perfection|\n",
      "|Racing|\n",
      "|EVERYTHING|CLEAN|\n",
      "|Best|Regards|-|Aminul|Islam|"
     ]
    }
   ],
   "source": [
    "for token in doc:\n",
    "    print(token, end=\"|\")"
   ]
  },
  {
   "attachments": {},
   "cell_type": "markdown",
   "metadata": {},
   "source": [
    "### Extracting Name"
   ]
  },
  {
   "cell_type": "code",
   "execution_count": 122,
   "metadata": {},
   "outputs": [],
   "source": [
    "def get_Name(doc):\n",
    "    name = ''\n",
    "    for entity in doc.ents:\n",
    "        if entity.label_ == 'PERSON':\n",
    "            name = entity.text\n",
    "            break\n",
    "    return name.split('\\n')[0]"
   ]
  },
  {
   "cell_type": "code",
   "execution_count": 123,
   "metadata": {},
   "outputs": [
    {
     "data": {
      "text/plain": [
       "'Quater'"
      ]
     },
     "execution_count": 123,
     "metadata": {},
     "output_type": "execute_result"
    }
   ],
   "source": [
    "get_Name(doc)"
   ]
  },
  {
   "attachments": {},
   "cell_type": "markdown",
   "metadata": {},
   "source": [
    "### Email"
   ]
  },
  {
   "cell_type": "code",
   "execution_count": 124,
   "metadata": {},
   "outputs": [],
   "source": [
    "def get_email(doc):\n",
    "    \n",
    "    pattern = [{\"TEXT\": {\"REGEX\": \"[a-zA-Z0-9-_.]+@[a-zA-Z0-9-_.]+\"}}]\n",
    "\n",
    "    matcher = Matcher(nlp.vocab)\n",
    "    matcher.add(\"Email\",[pattern])\n",
    "\n",
    "    matches = matcher(doc)\n",
    "\n",
    "    for match_id, start, end in matches:\n",
    "        span = doc[start:end]\n",
    "        return span.text"
   ]
  },
  {
   "cell_type": "code",
   "execution_count": 125,
   "metadata": {},
   "outputs": [
    {
     "data": {
      "text/plain": [
       "'aism6486@gmail.com'"
      ]
     },
     "execution_count": 125,
     "metadata": {},
     "output_type": "execute_result"
    }
   ],
   "source": [
    "get_email(doc)"
   ]
  },
  {
   "attachments": {},
   "cell_type": "markdown",
   "metadata": {},
   "source": [
    "### Phone"
   ]
  },
  {
   "cell_type": "code",
   "execution_count": 126,
   "metadata": {},
   "outputs": [],
   "source": [
    "def get_phoneNumber(doc):\n",
    "    pattern = [{\"TEXT\": {\"REGEX\": \"[+0-9]{10,14}\"}}]\n",
    "    matcher = Matcher(nlp.vocab, validate=True)\n",
    "    matcher.add(\"PhoneNumber\", [pattern])\n",
    "    matches = matcher(doc)\n",
    "    for match_id, start, end in matches:\n",
    "        span = doc[start:end]\n",
    "        return span.text\n",
    "        break"
   ]
  },
  {
   "cell_type": "code",
   "execution_count": 127,
   "metadata": {},
   "outputs": [
    {
     "data": {
      "text/plain": [
       "'+8801755304840'"
      ]
     },
     "execution_count": 127,
     "metadata": {},
     "output_type": "execute_result"
    }
   ],
   "source": [
    "get_phoneNumber(doc)"
   ]
  },
  {
   "attachments": {},
   "cell_type": "markdown",
   "metadata": {},
   "source": [
    "### Test"
   ]
  },
  {
   "cell_type": "code",
   "execution_count": 128,
   "metadata": {},
   "outputs": [
    {
     "data": {
      "text/plain": [
       "'a1b3e2a2-b25b-4ead-aee3-fbaede8341ae.txt'"
      ]
     },
     "execution_count": 128,
     "metadata": {},
     "output_type": "execute_result"
    }
   ],
   "source": [
    "import os\n",
    "extracted_texts_dir = '/home/epsilondelta/Work/ocr-project/extracted_texts/'\n",
    "os.listdir(extracted_texts_dir)[0]"
   ]
  },
  {
   "cell_type": "code",
   "execution_count": 129,
   "metadata": {},
   "outputs": [
    {
     "name": "stdout",
     "output_type": "stream",
     "text": [
      "jabirnahian009@gmail.com\n",
      "Jabir Al Nahian\n",
      "+8801870761283\n",
      "*********\n",
      "aism6486@gmail.com\n",
      "Quater\n",
      "+8801755304840\n",
      "*********\n",
      "umnoon.ali@northsouth.edu\n",
      "Umnoon Binta Ali\n",
      "+8801627097553\n",
      "*********\n",
      "md.mohosin.sayam10@gmail.com\n",
      "MD Mohosin Sayam\n",
      "+8801841777516\n",
      "*********\n",
      "shagoto1710@cseku.ac.bd\n",
      "Shagoto Rahman\n",
      "+8801793157472\n",
      "*********\n",
      "saif.ndub@gmail.com\n",
      "Md Saif Hossain\n",
      "+8801566024660\n",
      "*********\n",
      "imsobhani171134@bscse.uiu.ac.bd\n",
      "Mahbub E Sobhani Himel\n",
      "01521333309\n",
      "*********\n",
      "mahmudsourav@gmail.com\n",
      "Md Subhul Mahmud Bokhary\n",
      "01913956096\n",
      "*********\n"
     ]
    }
   ],
   "source": [
    "for file in os.listdir(extracted_texts_dir):\n",
    "    text = ''\n",
    "    f = open(os.path.join(extracted_texts_dir,file),'r')\n",
    "    for x in f:\n",
    "        text += x\n",
    "    \n",
    "    doc = nlp(text)\n",
    "    \n",
    "    print(get_email(doc))\n",
    "    print(get_Name(doc))\n",
    "    print(get_phoneNumber(doc))\n",
    "    print(\"*********\")\n"
   ]
  },
  {
   "cell_type": "code",
   "execution_count": null,
   "metadata": {},
   "outputs": [],
   "source": []
  }
 ],
 "metadata": {
  "kernelspec": {
   "display_name": "Python 3.10.8 ('ocr')",
   "language": "python",
   "name": "python3"
  },
  "language_info": {
   "codemirror_mode": {
    "name": "ipython",
    "version": 3
   },
   "file_extension": ".py",
   "mimetype": "text/x-python",
   "name": "python",
   "nbconvert_exporter": "python",
   "pygments_lexer": "ipython3",
   "version": "3.10.8"
  },
  "orig_nbformat": 4,
  "vscode": {
   "interpreter": {
    "hash": "9df43e8394a06c2bd225e8c3cc0348707dbec1aac68919c3eb2d8230de0dd306"
   }
  }
 },
 "nbformat": 4,
 "nbformat_minor": 2
}
