{
 "cells": [
  {
   "cell_type": "code",
   "execution_count": 1,
   "metadata": {},
   "outputs": [],
   "source": [
    "import spacy\n",
    "from spacy.matcher import Matcher"
   ]
  },
  {
   "cell_type": "code",
   "execution_count": 2,
   "metadata": {},
   "outputs": [],
   "source": [
    "text = ''\n",
    "f = open(\"./e7e1ea9f-b260-4f22-82cf-e90e7dc61404/rawText.txt\",'r')\n",
    "\n",
    "for x in f:\n",
    "    text+=x"
   ]
  },
  {
   "cell_type": "code",
   "execution_count": 3,
   "metadata": {},
   "outputs": [],
   "source": [
    "# defining spacy language model\n",
    "nlp = spacy.load(\"en_core_web_lg\")\n",
    "doc = nlp(text)"
   ]
  },
  {
   "cell_type": "code",
   "execution_count": 4,
   "metadata": {},
   "outputs": [
    {
     "name": "stdout",
     "output_type": "stream",
     "text": [
      "Umnoon|Binta|Ali|\n",
      "|Kapatakkho|D702|,|Sector|18|,|Uttara|,|Dhaka-1230|\n",
      "|Github|\n",
      "|LinkedIn|\n",
      "|umnoon.ali@northsouth.edu|\n",
      "|+8801627097553|\n",
      "|SUMMARY|\n",
      "|Innovative|and|scientifically|rigorous|recent|graduate|majoring|in|Computer|Science|and|Engineering|\n",
      "|from|North|South|University|.|I|am|a|data|science|enthusiast|.|I|am|attentive|to|new|technologies|,|take|on|\n",
      "|leadership|,|and|make|analytical|decisions|.|\n",
      "|WORK|EXPERIENCE|\n",
      "|Research|Assistance|\n",
      "|April|2022|-|July|2022|\n",
      "|Department|of|Electrical|and|Computer|Engineering|\n",
      "|North|South|University|\n",
      "|Supervisor|:|Dr.|Nabeel|Mohammed|\n",
      "|Research|Domain|:|Bangla|NLP|\n",
      "|PROJECTS|\n",
      "|Transfer|Learning|for|Speaker|Diarization|on|Bangla|Audio|Dataset|\n",
      "|CSE499|Graduate|Dissertation|\n",
      "|In|this|research|,|transfer|learning|was|explored|for|speaker|diarization|on|our|own|Bangla|audio|data|.|the|\n",
      "|approach|sxperiments|with|different|clustering|algorithms|and|embedding|techniques|to|reduce|Diarization|\n",
      "|Error|Rate|,|DER|for|noisy|data|.|\n",
      "|Contrastive|Learning|for|Text|-|to|-|Image|on|Paraphrasing|Captions|\n",
      "|CSE498|CO|-|OP|Research|Project|\n",
      "|In|this|research|,|I|presented|a|contrastive|learning|strategy|to|for|enhancing|the|quality|and|semantic|\n",
      "|consistency|of|synthetic|images|by|paraphrasing|the|captions|from|the|CUB|dataset|.|\n",
      "|A|Deep|Convolutional|Neural|Network|for|Bangla|Handwritten|Numeral|Recognition|\n",
      "|CSE465|Pattern|Recognition|and|Neural|Network|\n",
      "|In|this|research|,|I|studied|the|most|unbiased|and|augmented|Dataset|NumtaDB|to|classify|images|in|\n",
      "|isolated|Bangla|numerals|.|I|preprocessed|the|data|,|created|synthetic|data|augmentation|using|keras|\n",
      "|library|and|feed|the|data|to|the|training|model|in|the|pipeline|stage|.|Furthermore|,|I|used|popular|CNN|\n",
      "|network|ResNet34|to|better|the|performance|of|the|model|.|\n",
      "|Outbreak|Prediction|and|Visualization|:|Covid-19|\n",
      "|CSE299|Junior|Design|Project|\n",
      "|Researchers|and|social|and|behavior|change|communication|specialists|at|Johns|Hopkins|University|wrote|\n",
      "|insights|and|analyses|on|how|to|use|the|data|in|partnership|with|WHO|'s|Global|Outbreak|Alert|and|\n",
      "|Response|Network|(|GOARN|)|.|I|used|this|data|to|predict|the|time|of|the|highest|spread|of|covid-19|.|The|\n",
      "|time|-|series|visualization|is|done|with|PowerBI|.|\n",
      "|SKILLS|\n",
      "|Programming|\n",
      "|Python|,|C|,|C++|,|Java|,|PHP|,|Latex|\n",
      "|Frameworks|\n",
      "|Keras|,|PyTorch|,|Tensorflow|,|Pandas|,|Matplotlib|,|OpenCV|,|Scikit|Learn|\n",
      "|Front|-|end|\n",
      "|HTML5|,|CSS3|,|Bootstrap|,|ReactJs|\n",
      "|Back|-|end|\n",
      "|NodeJs|,|MySQL|\n",
      "|Visualization|Tool|\n",
      "|PowerBI|\n",
      "|OS|\n",
      "|Windows|,|Linux|\n",
      "|DevOps|\n",
      "|Git|\n",
      "|Platforms|\n",
      "|MS|Office|,|Adobe|\n",
      "|EDUCATION|\n",
      "|2017|-|2021|\n",
      "|Bachelor|of|Science|at|North|South|University|\n",
      "|(|CGPA|:|3.6/4.0|)|\n",
      "|2015|-|2016|\n",
      "|Higher|School|Certificate|at|Rajuk|Uttara|Model|College|\n",
      "|(|GPA|:|5.0/5.0|)|\n",
      "|2013|-|2014|\n",
      "|Secondary|School|Certificate|at|Rajuk|Uttara|Model|College|\n",
      "|(|GPA|:|5.0/5.0|)|\n",
      "|EXTRA|-|CURRICULAR|ACTIVITIES|\n",
      "|2018|\n",
      "|Arduino|Workshop|at|NSU|ACM|Student|Chapter|\n",
      "|Made|obstacle|avoiding|robot|\n",
      "|2017|-|2019|\n",
      "|Computer|and|Engineering|Club|at|North|South|University|\n",
      "|Junior|member|\n",
      "|2012|-|2014|\n",
      "|Debating|Club|at|Rajuk|Uttara|Model|College|\n",
      "|Participated|in|the|in|-|house|Parliamentary|Debating|Competition|\n",
      "|2014|-|2015|\n",
      "|Played|Handball|at|Rajuk|Uttara|Model|College|\n",
      "|Regional|Champion|of|Intra|-|School|Handball|Tournament|\n",
      "|Music|\n",
      "|I|sing|,|play|ukulele|and|have|my|own|YouTube|Channel|\n",
      "|Art|\n",
      "|Acrylic|Paintings|,|Abstract|Art|,|Digital|Art|\n",
      "|ATTRIBUTES|\n",
      "|Design|Skills|\n",
      "|AutoCAD|,|Sketch|up|\n",
      "|Soft|Skills|\n",
      "|Leadership|,|Team|work|,|Adaptability|,|Digital|Literacy|\n",
      "|Language|Proficiency|\n",
      "|English|,|Bangla|\n",
      "|REFERENCE|\n",
      "|Dr.|Nabeel|Mohammed|\n",
      "|Assistant|Professor|\n",
      "|Department|of|Electrical|and|Computer|Engineering|\n",
      "|North|South|University|\n",
      "|Email|:|nabeel.mohammed@northsouth.edu|\n",
      "|Ms.|Tanjila|Farah|\n",
      "|Senior|Lecturer|\n",
      "|Department|of|Electrical|and|Computer|Engineering|\n",
      "|North|South|University|\n",
      "|Email|:|tanjila.farah@northsouth.edu|"
     ]
    }
   ],
   "source": [
    "for token in doc:\n",
    "    print(token, end=\"|\")"
   ]
  },
  {
   "attachments": {},
   "cell_type": "markdown",
   "metadata": {},
   "source": [
    "### Extracting Name"
   ]
  },
  {
   "cell_type": "code",
   "execution_count": 5,
   "metadata": {},
   "outputs": [],
   "source": [
    "def get_Name(doc):\n",
    "    name = ''\n",
    "    for entity in doc.ents:\n",
    "        if entity.label_ == 'PERSON':\n",
    "            name = entity.text\n",
    "            break\n",
    "    return name.split('\\n')[0]"
   ]
  },
  {
   "cell_type": "code",
   "execution_count": 6,
   "metadata": {},
   "outputs": [
    {
     "data": {
      "text/plain": [
       "'Umnoon Binta Ali'"
      ]
     },
     "execution_count": 6,
     "metadata": {},
     "output_type": "execute_result"
    }
   ],
   "source": [
    "get_Name(doc)"
   ]
  },
  {
   "attachments": {},
   "cell_type": "markdown",
   "metadata": {},
   "source": [
    "### Email"
   ]
  },
  {
   "cell_type": "code",
   "execution_count": 7,
   "metadata": {},
   "outputs": [],
   "source": [
    "def get_email(nlp,doc):\n",
    "    \n",
    "    pattern = [{\"TEXT\": {\"REGEX\": \"[a-zA-Z0-9-_.]+@[a-zA-Z0-9-_.]+\"}}]\n",
    "\n",
    "    matcher = Matcher(nlp.vocab)\n",
    "    matcher.add(\"Email\",[pattern])\n",
    "\n",
    "    matches = matcher(doc)\n",
    "\n",
    "    for match_id, start, end in matches:\n",
    "        span = doc[start:end]\n",
    "        return span.text"
   ]
  },
  {
   "cell_type": "code",
   "execution_count": 8,
   "metadata": {},
   "outputs": [
    {
     "data": {
      "text/plain": [
       "'umnoon.ali@northsouth.edu'"
      ]
     },
     "execution_count": 8,
     "metadata": {},
     "output_type": "execute_result"
    }
   ],
   "source": [
    "get_email(nlp,doc)"
   ]
  },
  {
   "attachments": {},
   "cell_type": "markdown",
   "metadata": {},
   "source": [
    "### Phone"
   ]
  },
  {
   "cell_type": "code",
   "execution_count": 9,
   "metadata": {},
   "outputs": [],
   "source": [
    "def get_phoneNumber(doc):\n",
    "    pattern = [{\"TEXT\": {\"REGEX\": \"[+0-9]{10,14}\"}}]\n",
    "    matcher = Matcher(nlp.vocab, validate=True)\n",
    "    matcher.add(\"PhoneNumber\", [pattern])\n",
    "    matches = matcher(doc)\n",
    "    for match_id, start, end in matches:\n",
    "        span = doc[start:end]\n",
    "        print(span.text)\n",
    "        break"
   ]
  },
  {
   "cell_type": "code",
   "execution_count": 10,
   "metadata": {},
   "outputs": [
    {
     "name": "stdout",
     "output_type": "stream",
     "text": [
      "+8801627097553\n"
     ]
    }
   ],
   "source": [
    "get_phoneNumber(doc)"
   ]
  }
 ],
 "metadata": {
  "kernelspec": {
   "display_name": "Python 3.10.8 ('ocr')",
   "language": "python",
   "name": "python3"
  },
  "language_info": {
   "codemirror_mode": {
    "name": "ipython",
    "version": 3
   },
   "file_extension": ".py",
   "mimetype": "text/x-python",
   "name": "python",
   "nbconvert_exporter": "python",
   "pygments_lexer": "ipython3",
   "version": "3.10.8"
  },
  "orig_nbformat": 4,
  "vscode": {
   "interpreter": {
    "hash": "9df43e8394a06c2bd225e8c3cc0348707dbec1aac68919c3eb2d8230de0dd306"
   }
  }
 },
 "nbformat": 4,
 "nbformat_minor": 2
}
