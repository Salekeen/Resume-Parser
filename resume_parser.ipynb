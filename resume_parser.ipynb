{
 "cells": [
  {
   "cell_type": "code",
   "execution_count": 94,
   "metadata": {},
   "outputs": [],
   "source": [
    "import spacy\n",
    "from spacy.matcher import Matcher"
   ]
  },
  {
   "cell_type": "code",
   "execution_count": 95,
   "metadata": {},
   "outputs": [],
   "source": [
    "text = ''\n",
    "f = open(\"./extracted_texts/23a70903-c44a-4a9b-aebe-3a9717b32f9d.txt\",\n",
    "         'r')\n",
    "\n",
    "for x in f:\n",
    "    text+=x"
   ]
  },
  {
   "cell_type": "code",
   "execution_count": 96,
   "metadata": {},
   "outputs": [],
   "source": [
    "# defining spacy language model\n",
    "nlp = spacy.load(\"en_core_web_lg\")\n",
    "doc = nlp(text)"
   ]
  },
  {
   "cell_type": "code",
   "execution_count": 97,
   "metadata": {},
   "outputs": [
    {
     "name": "stdout",
     "output_type": "stream",
     "text": [
      "SUMMARY|\n",
      "|Good|understanding|in|OOP|.|\n",
      "|Good|understanding|in|software|design|\n",
      "|patterns|.|\n",
      "|Basic|understanding|in|UI|/|UX|designs|.|\n",
      "|Mahbub|E|Sobhani|Himel|\n",
      "|Adaptability|in|OOP|languages|and|\n",
      "|structural|programming|languages|.|\n",
      "|Road|:|17|,|House|:|03|,|Mirpur|,|Dhaka-1216|.|\n",
      "|Basic|understanding|in|web|technologies|.|\n",
      "|+88|-|01521333309|\n",
      "|Basics|in|React|JS|.|\n",
      "|LinkedIn|:|Mahbub|E|Sobhani|\n",
      "|Basics|in|Laravel|Framework|.|\n",
      "|Portfolio|:|Mahbub|E|Sobhani|\n",
      "|Good|understanding|in|machine|learning|\n",
      "|GitHub|:|Mahbub|E|Sobhani|\n",
      "|python|libraries|.|\n",
      "|Codeforces|:|mahbubhimel|\n",
      "|Good|understanding|in|neural|networks|\n",
      "|Email|:|imsobhani171134@bscse.uiu.ac.bd|\n",
      "|and|classification|algorithms|.|\n",
      "|Well|-|developed|communication|skill|.|\n",
      "|OBJECTIVE|\n",
      "|||wish|to|work|in|an|organization|that|can|\n",
      "|PROJECT|LIST|\n",
      "|quench|my|thirst|for|knowledge|and|provide|\n",
      "|space|to|learn|and|gain|experience|in|the|field|of|\n",
      "|1|.|Pirates|Den|Tour|Buddy|\n",
      "|artificial|intelligence|and|development|while|\n",
      "|Tools|and|Technologies|:|PHP|,|MySQL|.|\n",
      "|being|resourceful|,|innovative|,|and|flexible|.|\n",
      "|2|.|A|Fighting|Game|\n",
      "|Tools|and|Technologies|:|C|,|I|-|graphics|.|\n",
      "|3|.|Library|Management|System|\n",
      "|WORK|EXPERIENCE|\n",
      "|Tools|and|Technologies|:|C|\n",
      "|4|.|Medical|Management|System|\n",
      "|Software|Engineering|Internship|Program|at|\n",
      "|SocialCube|Limited|\n",
      "|Tools|and|Technologies|:|Java|\n",
      "|September|2021|-|November|2021|,|Mogbazar|,|\n",
      "|5|.|Intrusion|Detection|System|Using|\n",
      "|Dhaka|.|\n",
      "|Convolutional|Neural|Network|\n",
      "|Tools|and|Technologies|:|Keras|,|TensorFlow|.|\n",
      "|Internship|Trainee|at|SoftBD|Limited|\n",
      "|6|.|Mom'sCradle|\n",
      "|February|2022|-|March|2022|,|New|Eskaton|Road|,|\n",
      "|Tools|and|Technologies|:|HTML|,|CSS|,|JS|.|\n",
      "|Dhaka|.|\n",
      "|7|.|Train|-|Ticket|-|System|\n",
      "|Tools|and|Technologies|:|PHP|,|JS|,|HTML|,|CSS|,|\n",
      "|Trainee|at|Bangladesh|-|Japan|ICT|Engineers|'|\n",
      "|Laravel|,|MySQL|.|\n",
      "|Training|Program|\n",
      "|8|.|Quiz|App|\n",
      "|April|2022|-|October|2022|.|\n",
      "|Tools|and|Technologies|:|ReactJS|,|Firebase|,|\n",
      "|JavaScript|.|\n",
      "|EDUCATION|\n",
      "|Thesis|Title|:|Sentence|Pair|Modeling|for|Current|\n",
      "|United|International|University|/|B.|Sc|in|CSE|\n",
      "|Word|Prediction|in|Bengali|Language|.|\n",
      "|January|2017|-|March|2021|,|Satarkul|,|Badda|\n",
      "|Description|:|Context|based|current|word|\n",
      "|CGPA|:|3.49|\n",
      "|prediction|since|the|current|word|is|incomplete|\n",
      "|for|Bengali|Language|in|less|computational|cost|\n",
      "|ACHIEVEMENTS|\n",
      "|rather|than|pre|-|trained|Language|Model|like|\n",
      "|Programming|Contest|Experience|:|\n",
      "|BERT|.|\n",
      "|2017|:|\n",
      "|TECHNICAL|SKILLS|\n",
      "|ICPC|Dhaka|Regional|Preliminary|Contest|\n",
      "|Programming|knowledge|in|C|,|C++|,|C|#|,|\n",
      "|2018|:|\n",
      "|Java|,|Python|,|JavaScript|,|PHP|.|\n",
      "|UIU|Coders|Combat|\n",
      "|Database|:|SQL|,|Firebase|.|\n",
      "|2019|:|\n",
      "|Version|Controlling|System|:|GitHub|.|\n",
      "|ICPC|Dhaka|Regional|Preliminary|Contest|"
     ]
    }
   ],
   "source": [
    "for token in doc:\n",
    "    print(token, end=\"|\")"
   ]
  },
  {
   "attachments": {},
   "cell_type": "markdown",
   "metadata": {},
   "source": [
    "### Extracting Name"
   ]
  },
  {
   "cell_type": "code",
   "execution_count": 98,
   "metadata": {},
   "outputs": [],
   "source": [
    "def get_Name(doc):\n",
    "    name = ''\n",
    "    for entity in doc.ents:\n",
    "        if entity.label_ == 'PERSON':\n",
    "            name = entity.text\n",
    "            break\n",
    "    return name.split('\\n')[0]"
   ]
  },
  {
   "cell_type": "code",
   "execution_count": 99,
   "metadata": {},
   "outputs": [
    {
     "data": {
      "text/plain": [
       "'Mahbub E Sobhani Himel'"
      ]
     },
     "execution_count": 99,
     "metadata": {},
     "output_type": "execute_result"
    }
   ],
   "source": [
    "get_Name(doc)"
   ]
  },
  {
   "attachments": {},
   "cell_type": "markdown",
   "metadata": {},
   "source": [
    "### Email"
   ]
  },
  {
   "cell_type": "code",
   "execution_count": 100,
   "metadata": {},
   "outputs": [],
   "source": [
    "def get_email(doc):\n",
    "    \n",
    "    pattern = [{\"TEXT\": {\"REGEX\": \"[a-zA-Z0-9-_.]+@[a-zA-Z0-9-_.]+\"}}]\n",
    "\n",
    "    matcher = Matcher(nlp.vocab)\n",
    "    matcher.add(\"Email\",[pattern])\n",
    "\n",
    "    matches = matcher(doc)\n",
    "\n",
    "    for match_id, start, end in matches:\n",
    "        span = doc[start:end]\n",
    "        return span.text"
   ]
  },
  {
   "cell_type": "code",
   "execution_count": 101,
   "metadata": {},
   "outputs": [
    {
     "data": {
      "text/plain": [
       "'imsobhani171134@bscse.uiu.ac.bd'"
      ]
     },
     "execution_count": 101,
     "metadata": {},
     "output_type": "execute_result"
    }
   ],
   "source": [
    "get_email(doc)"
   ]
  },
  {
   "attachments": {},
   "cell_type": "markdown",
   "metadata": {},
   "source": [
    "### Phone"
   ]
  },
  {
   "cell_type": "code",
   "execution_count": 102,
   "metadata": {},
   "outputs": [],
   "source": [
    "def get_phoneNumber(doc):\n",
    "    pattern = [{\"TEXT\": {\"REGEX\": \"[+0-9]{10,14}\"}}]\n",
    "    matcher = Matcher(nlp.vocab, validate=True)\n",
    "    matcher.add(\"PhoneNumber\", [pattern])\n",
    "    matches = matcher(doc)\n",
    "    for match_id, start, end in matches:\n",
    "        span = doc[start:end]\n",
    "        return span.text\n",
    "        break"
   ]
  },
  {
   "cell_type": "code",
   "execution_count": 103,
   "metadata": {},
   "outputs": [],
   "source": [
    "# get_phoneNumber(doc)"
   ]
  },
  {
   "attachments": {},
   "cell_type": "markdown",
   "metadata": {},
   "source": [
    "### Test"
   ]
  },
  {
   "cell_type": "code",
   "execution_count": 104,
   "metadata": {},
   "outputs": [
    {
     "data": {
      "text/plain": [
       "'a1b3e2a2-b25b-4ead-aee3-fbaede8341ae.txt'"
      ]
     },
     "execution_count": 104,
     "metadata": {},
     "output_type": "execute_result"
    }
   ],
   "source": [
    "import os\n",
    "extracted_texts_dir = '/home/epsilondelta/Work/ocr-project/extracted_texts/'\n",
    "os.listdir(extracted_texts_dir)[0]"
   ]
  },
  {
   "cell_type": "code",
   "execution_count": 105,
   "metadata": {},
   "outputs": [
    {
     "name": "stdout",
     "output_type": "stream",
     "text": [
      "jabirnahian009@gmail.com\n",
      "Jabir Al Nahian\n",
      "+8801870761283\n",
      "*********\n",
      "aism6486@gmail.com\n",
      "Quater\n",
      "+8801755304840\n",
      "*********\n",
      "umnoon.ali@northsouth.edu\n",
      "Umnoon Binta Ali\n",
      "+8801627097553\n",
      "*********\n",
      "md.mohosin.sayam10@gmail.com\n",
      "MD\n",
      "+8801841777516\n",
      "*********\n",
      "shagoto1710@cseku.ac.bd\n",
      "Shagoto Rahman\n",
      "+8801793157472\n",
      "*********\n",
      "saif.ndub@gmail.com\n",
      "Md Saif Hossain\n",
      "+8801566024660\n",
      "*********\n",
      "imsobhani171134@bscse.uiu.ac.bd\n",
      "Mahbub E Sobhani Himel\n",
      "01521333309\n",
      "*********\n",
      "mahmudsourav@gmail.com\n",
      "Md Subhul Mahmud Bokhary\n",
      "01913956096\n",
      "*********\n"
     ]
    }
   ],
   "source": [
    "for file in os.listdir(extracted_texts_dir):\n",
    "    text = ''\n",
    "    f = open(os.path.join(extracted_texts_dir,file),'r')\n",
    "    for x in f:\n",
    "        text += x\n",
    "    \n",
    "    doc = nlp(text)\n",
    "    \n",
    "    print(get_email(doc))\n",
    "    print(get_Name(doc))\n",
    "    print(get_phoneNumber(doc))\n",
    "    print(\"*********\")\n"
   ]
  },
  {
   "cell_type": "code",
   "execution_count": null,
   "metadata": {},
   "outputs": [],
   "source": []
  }
 ],
 "metadata": {
  "kernelspec": {
   "display_name": "Python 3.10.8 ('ocr')",
   "language": "python",
   "name": "python3"
  },
  "language_info": {
   "codemirror_mode": {
    "name": "ipython",
    "version": 3
   },
   "file_extension": ".py",
   "mimetype": "text/x-python",
   "name": "python",
   "nbconvert_exporter": "python",
   "pygments_lexer": "ipython3",
   "version": "3.10.8"
  },
  "orig_nbformat": 4,
  "vscode": {
   "interpreter": {
    "hash": "9df43e8394a06c2bd225e8c3cc0348707dbec1aac68919c3eb2d8230de0dd306"
   }
  }
 },
 "nbformat": 4,
 "nbformat_minor": 2
}
